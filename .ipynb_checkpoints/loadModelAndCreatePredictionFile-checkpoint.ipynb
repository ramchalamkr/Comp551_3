{
 "cells": [
  {
   "cell_type": "code",
   "execution_count": 1,
   "metadata": {
    "collapsed": false
   },
   "outputs": [
    {
     "name": "stderr",
     "output_type": "stream",
     "text": [
      "Using TensorFlow backend.\n"
     ]
    }
   ],
   "source": [
    "from keras.models import load_model\n",
    "import tensorflow as tf\n",
    "tf.python.control_flow_ops = tf\n",
    "import numpy\n",
    "import pandas as pd"
   ]
  },
  {
   "cell_type": "code",
   "execution_count": 2,
   "metadata": {
    "collapsed": false
   },
   "outputs": [
    {
     "name": "stdout",
     "output_type": "stream",
     "text": [
      "Loading Data from  dataset/test_x.bin\n",
      "Done\n"
     ]
    }
   ],
   "source": [
    "model = load_model('model_ConvNeuralNets_huanyu_email.h5')\n",
    "def loadTrainDataIntoMatrix(fileName,noOfSamples):\n",
    "\tprint 'Loading Data from ',fileName\n",
    "\tx = numpy.fromfile(fileName, dtype='uint8')\n",
    "\tx = x.reshape((noOfSamples,60,60))\n",
    "\tx[x<255]=0\n",
    "\tprint 'Done'\n",
    "\treturn x\n",
    "\n",
    "testDataLoc  = 'dataset/test_x.bin'\n",
    "testDataNoOfSamples = 20000\n",
    "\n",
    "testDataFeatures = loadTrainDataIntoMatrix(testDataLoc,testDataNoOfSamples)\n",
    "\n",
    "X_test = testDataFeatures.reshape(testDataFeatures.shape[0], 1, 60, 60).astype('float32')\n",
    "X_test = X_test / 255\n"
   ]
  },
  {
   "cell_type": "code",
   "execution_count": null,
   "metadata": {
    "collapsed": true
   },
   "outputs": [],
   "source": [
    "predictions = model.predict(X_test)"
   ]
  },
  {
   "cell_type": "code",
   "execution_count": 4,
   "metadata": {
    "collapsed": false
   },
   "outputs": [],
   "source": [
    "answer =[]\n",
    "for i in predictions:\n",
    "    x = [z for z, a in enumerate(i) if a == max(i)]\n",
    "    answer.append(x[0])\n"
   ]
  },
  {
   "cell_type": "code",
   "execution_count": 5,
   "metadata": {
    "collapsed": true
   },
   "outputs": [],
   "source": [
    "count = 0\n",
    "result = pd.DataFrame(columns=('Id', 'Prediction'))\n",
    "for i in answer:\n",
    "    result.loc[count]=[\"%d\"%count,\"%d\"%i]\n",
    "    count += 1\n",
    "result.to_csv('prediction3Layers_1.csv', index=False)"
   ]
  },
  {
   "cell_type": "code",
   "execution_count": null,
   "metadata": {
    "collapsed": true
   },
   "outputs": [],
   "source": []
  }
 ],
 "metadata": {
  "kernelspec": {
   "display_name": "Python 2",
   "language": "python",
   "name": "python2"
  },
  "language_info": {
   "codemirror_mode": {
    "name": "ipython",
    "version": 2
   },
   "file_extension": ".py",
   "mimetype": "text/x-python",
   "name": "python",
   "nbconvert_exporter": "python",
   "pygments_lexer": "ipython2",
   "version": "2.7.12"
  }
 },
 "nbformat": 4,
 "nbformat_minor": 1
}
