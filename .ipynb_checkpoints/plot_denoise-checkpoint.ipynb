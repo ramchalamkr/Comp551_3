{
 "cells": [
  {
   "cell_type": "code",
   "execution_count": null,
   "metadata": {
    "collapsed": false
   },
   "outputs": [],
   "source": [
    "%matplotlib inline"
   ]
  },
  {
   "cell_type": "markdown",
   "metadata": {},
   "source": [
    "\n",
    "# Denoising a picture\n",
    "\n",
    "\n",
    "In this example, we denoise a noisy version of the picture of the astronaut\n",
    "Eileen Collins using the total variation and bilateral denoising filter.\n",
    "\n",
    "These algorithms typically produce \"posterized\" images with flat domains\n",
    "separated by sharp edges. It is possible to change the degree of posterization\n",
    "by controlling the tradeoff between denoising and faithfulness to the original\n",
    "image.\n",
    "\n",
    "Total variation filter\n",
    "----------------------\n",
    "\n",
    "The result of this filter is an image that has a minimal total variation norm,\n",
    "while being as close to the initial image as possible. The total variation is\n",
    "the L1 norm of the gradient of the image.\n",
    "\n",
    "Bilateral filter\n",
    "----------------\n",
    "\n",
    "A bilateral filter is an edge-preserving and noise reducing filter. It averages\n",
    "pixels based on their spatial closeness and radiometric similarity.\n",
    "\n",
    "\n"
   ]
  },
  {
   "cell_type": "code",
   "execution_count": 1,
   "metadata": {
    "collapsed": false
   },
   "outputs": [
    {
     "ename": "ImportError",
     "evalue": "No module named skimage",
     "output_type": "error",
     "traceback": [
      "\u001b[0;31m---------------------------------------------------------------------------\u001b[0m",
      "\u001b[0;31mImportError\u001b[0m                               Traceback (most recent call last)",
      "\u001b[0;32m<ipython-input-1-fe17b011d0bf>\u001b[0m in \u001b[0;36m<module>\u001b[0;34m()\u001b[0m\n\u001b[1;32m      2\u001b[0m \u001b[0;32mimport\u001b[0m \u001b[0mmatplotlib\u001b[0m\u001b[0;34m.\u001b[0m\u001b[0mpyplot\u001b[0m \u001b[0;32mas\u001b[0m \u001b[0mplt\u001b[0m\u001b[0;34m\u001b[0m\u001b[0m\n\u001b[1;32m      3\u001b[0m \u001b[0;34m\u001b[0m\u001b[0m\n\u001b[0;32m----> 4\u001b[0;31m \u001b[0;32mfrom\u001b[0m \u001b[0mskimage\u001b[0m \u001b[0;32mimport\u001b[0m \u001b[0mdata\u001b[0m\u001b[0;34m,\u001b[0m \u001b[0mimg_as_float\u001b[0m\u001b[0;34m\u001b[0m\u001b[0m\n\u001b[0m\u001b[1;32m      5\u001b[0m from skimage.restoration import (denoise_tv_chambolle, denoise_bilateral,\n\u001b[1;32m      6\u001b[0m                                  denoise_wavelet, estimate_sigma)\n",
      "\u001b[0;31mImportError\u001b[0m: No module named skimage"
     ]
    }
   ],
   "source": [
    "import numpy as np\n",
    "import matplotlib.pyplot as plt\n",
    "\n",
    "from skimage import data, img_as_float\n",
    "from skimage.restoration import (denoise_tv_chambolle, denoise_bilateral,\n",
    "                                 denoise_wavelet, estimate_sigma)\n",
    "from skimage.util import random_noise\n",
    "\n",
    "\n",
    "astro = img_as_float(data.astronaut())\n",
    "astro = astro[220:300, 220:320]\n",
    "\n",
    "sigma = 0.155\n",
    "noisy = random_noise(astro, var=sigma**2)\n",
    "\n",
    "fig, ax = plt.subplots(nrows=2, ncols=4, figsize=(8, 5), sharex=True,\n",
    "                       sharey=True, subplot_kw={'adjustable': 'box-forced'})\n",
    "\n",
    "plt.gray()\n",
    "\n",
    "# Estimate the average noise standard deviation across color channels.\n",
    "sigma_est = estimate_sigma(noisy, multichannel=True, average_sigmas=True)\n",
    "# Due to clipping in random_noise, the estimate will be a bit smaller than the\n",
    "# specified sigma.\n",
    "print(\"Estimated Gaussian noise standard deviation = {}\".format(sigma_est))\n",
    "\n",
    "ax[0, 0].imshow(noisy)\n",
    "ax[0, 0].axis('off')\n",
    "ax[0, 0].set_title('noisy')\n",
    "ax[0, 1].imshow(denoise_tv_chambolle(noisy, weight=0.1, multichannel=True))\n",
    "ax[0, 1].axis('off')\n",
    "ax[0, 1].set_title('TV')\n",
    "ax[0, 2].imshow(denoise_bilateral(noisy, sigma_color=0.05, sigma_spatial=15))\n",
    "ax[0, 2].axis('off')\n",
    "ax[0, 2].set_title('Bilateral')\n",
    "ax[0, 3].imshow(denoise_wavelet(noisy, sigma=0.85*sigma_est,\n",
    "                                multichannel=True))\n",
    "ax[0, 3].axis('off')\n",
    "ax[0, 3].set_title('Wavelet')\n",
    "\n",
    "ax[1, 1].imshow(denoise_tv_chambolle(noisy, weight=0.2, multichannel=True))\n",
    "ax[1, 1].axis('off')\n",
    "ax[1, 1].set_title('(more) TV')\n",
    "ax[1, 2].imshow(denoise_bilateral(noisy, sigma_color=0.1, sigma_spatial=15))\n",
    "ax[1, 2].axis('off')\n",
    "ax[1, 2].set_title('(more) Bilateral')\n",
    "ax[1, 3].imshow(denoise_wavelet(noisy, sigma=1.25*sigma_est,\n",
    "                                multichannel=True))\n",
    "ax[1, 3].axis('off')\n",
    "ax[1, 3].set_title('(more) Wavelet')\n",
    "ax[1, 0].imshow(astro)\n",
    "ax[1, 0].axis('off')\n",
    "ax[1, 0].set_title('original')\n",
    "\n",
    "fig.tight_layout()\n",
    "\n",
    "plt.show()"
   ]
  },
  {
   "cell_type": "code",
   "execution_count": null,
   "metadata": {
    "collapsed": true
   },
   "outputs": [],
   "source": []
  }
 ],
 "metadata": {
  "kernelspec": {
   "display_name": "Python 2",
   "language": "python",
   "name": "python2"
  },
  "language_info": {
   "codemirror_mode": {
    "name": "ipython",
    "version": 2
   },
   "file_extension": ".py",
   "mimetype": "text/x-python",
   "name": "python",
   "nbconvert_exporter": "python",
   "pygments_lexer": "ipython2",
   "version": "2.7.12"
  }
 },
 "nbformat": 4,
 "nbformat_minor": 0
}
