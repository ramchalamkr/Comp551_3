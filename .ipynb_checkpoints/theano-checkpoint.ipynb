{
 "cells": [
  {
   "cell_type": "markdown",
   "metadata": {},
   "source": [
    "#### Installing theano\n",
    "\n",
    "Please follow the installation guide in http://deeplearning.net/software/theano/install.html\n",
    "\n",
    "The gist of it is, either `pip install theano`, or for bleeding edge, `git clone github.com/Theano/theano` and then `python setup.py develop`.\n",
    "\n",
    "You will need gcc/g++ to be installed and, for GPU usage, CUDA to be installed as well.\n",
    "\n",
    "Sometimes installing on Windows just works, but rarely. So let me warn you, it may take you less time to install linux in dual-boot than to try making theano work on your particular Windows environment! :D"
   ]
  },
  {
   "cell_type": "code",
   "execution_count": 1,
   "metadata": {
    "collapsed": false
   },
   "outputs": [],
   "source": [
    "%matplotlib inline\n",
    "# the main module\n",
    "import theano\n",
    "# a very often used submodule, make a shortcut to it, 'T'\n",
    "import theano.tensor as T\n",
    "\n",
    "# numpy is necessary, theano mostly deals in numpy arrays\n",
    "import numpy\n"
   ]
  },
  {
   "cell_type": "code",
   "execution_count": 2,
   "metadata": {
    "collapsed": false
   },
   "outputs": [],
   "source": [
    "import matplotlib.pyplot as pp # plotting figures is always a good idea!"
   ]
  },
  {
   "cell_type": "markdown",
   "metadata": {},
   "source": [
    "### The Theano pipeline\n",
    "\n",
    "Using theano is a 3 step process: $$ \\mbox{Create computation graph} \\to \\mbox{Compile graph to C/CUDA fns} \\to \\mbox{Call compiled fns}$$\n",
    "\n",
    "Let us start with the first step, creating the graph.\n",
    "\n",
    "### Theano graphs"
   ]
  },
  {
   "cell_type": "code",
   "execution_count": 3,
   "metadata": {
    "collapsed": false
   },
   "outputs": [],
   "source": [
    "# We can create input nodes of many types\n",
    "x = T.matrix(name='x',dtype='float32')"
   ]
  },
  {
   "cell_type": "markdown",
   "metadata": {},
   "source": [
    " The default type is 'theano.config.floatX', which itself is float64 by default on x64 machines.\n",
    " \n",
    " To change it, edit your $HOME/.theanorc file, see http://deeplearning.net/software/theano/library/config.html"
   ]
  },
  {
   "cell_type": "code",
   "execution_count": 4,
   "metadata": {
    "collapsed": false
   },
   "outputs": [],
   "source": [
    "# We can also create input nodes of many dimensions\n",
    "y = T.vector(name='y')\n",
    "z = T.iscalar('z') # equivalent to T.scalar(dtype='int64')\n",
    "a = T.tensor3('a') # an array with shape (i,j,k)\n",
    "b = T.tensor4('b') # an array with shape (i,j,k,l)\n"
   ]
  },
  {
   "cell_type": "markdown",
   "metadata": {},
   "source": [
    "For all possible constructors see http://deeplearning.net/software/theano/library/tensor/basic.html#all-fully-typed-constructors.\n",
    "\n",
    "Now that we have some input nodes we can do computations with them.\n",
    "\n",
    "Most of the python operators ('+', '-', '[...]', etc.) are overloaded and many of the typical ndarray functions have their equivalent so you can simply work with the variable **as you would with numpy arrays** (most of the time)."
   ]
  },
  {
   "cell_type": "code",
   "execution_count": 5,
   "metadata": {
    "collapsed": false
   },
   "outputs": [],
   "source": [
    "sum_of_x = x.sum()\n",
    "times_y = sum_of_x * y\n",
    "squared_plus_one = times_y ** 2 + 1\n",
    "o = T.exp(-squared_plus_one)"
   ]
  },
  {
   "cell_type": "markdown",
   "metadata": {},
   "source": [
    "Note that you didn't give any value to `x`, nor `y`, so **no computation is being done here**. We're only telling theano how to compute `o` in terms of `x` and `y`. All the variables we have just defined are also just nodes in the graph:"
   ]
  },
  {
   "cell_type": "code",
   "execution_count": 6,
   "metadata": {
    "collapsed": false
   },
   "outputs": [
    {
     "name": "stdout",
     "output_type": "stream",
     "text": [
      "sum(x) Sum{acc_dtype=float64}.0\n",
      "sum(x)*y Elemwise{mul,no_inplace}.0\n",
      "s+1 Elemwise{add,no_inplace}.0\n",
      "o Elemwise{exp,no_inplace}.0\n",
      "\n",
      "The graph with o as a root:\n",
      "Elemwise{exp,no_inplace} [id A] ''   \n",
      " |Elemwise{neg,no_inplace} [id B] ''   \n",
      "   |Elemwise{add,no_inplace} [id C] ''   \n",
      "     |Elemwise{pow,no_inplace} [id D] ''   \n",
      "     | |Elemwise{mul,no_inplace} [id E] ''   \n",
      "     | | |DimShuffle{x} [id F] ''   \n",
      "     | | | |Sum{acc_dtype=float64} [id G] ''   \n",
      "     | | |   |x [id H]\n",
      "     | | |y [id I]\n",
      "     | |DimShuffle{x} [id J] ''   \n",
      "     |   |TensorConstant{2} [id K]\n",
      "     |DimShuffle{x} [id L] ''   \n",
      "       |TensorConstant{1} [id M]\n",
      "\n",
      "A prettier version:\n"
     ]
    },
    {
     "data": {
      "text/plain": [
       "'exp((-(((Sum{acc_dtype=float64}(x) * y) ** TensorConstant{2}) + TensorConstant{1})))'"
      ]
     },
     "execution_count": 6,
     "metadata": {},
     "output_type": "execute_result"
    }
   ],
   "source": [
    "print \"sum(x)\",sum_of_x\n",
    "print 'sum(x)*y',times_y\n",
    "print 's+1',squared_plus_one\n",
    "print 'o',o\n",
    "print \n",
    "\n",
    "print 'The graph with o as a root:'\n",
    "theano.printing.debugprint(o)\n",
    "\n",
    "print\n",
    "print 'A prettier version:'\n",
    "theano.printing.pp(o)"
   ]
  },
  {
   "cell_type": "markdown",
   "metadata": {},
   "source": [
    "### Shapes and broadcasting\n",
    "\n",
    "In addition to a certain number of dimensions (e.g. `T.matrix().ndim` is 2), variables have a **shape** and a **broadcast** pattern. \n",
    "\n",
    "The shape is simply the number of elements in each dimension. Note that it is **also** a symbolic variable and can be manipulated as such (but you can also use constants if you know the shape a node is going to have).\n",
    "\n",
    "It is also possible to reorder the dimensions by using the **dimshuffle** operator."
   ]
  },
  {
   "cell_type": "code",
   "execution_count": 7,
   "metadata": {
    "collapsed": false
   },
   "outputs": [
    {
     "name": "stdout",
     "output_type": "stream",
     "text": [
      "2 Shape.0\n",
      "Elemwise{add,no_inplace}.0\n"
     ]
    }
   ],
   "source": [
    "x = T.matrix()\n",
    "print x.ndim, x.shape\n",
    "x_resh = x.reshape((10, 5)) # only works if the flat array under x has shape 50\n",
    "print x.shape[0] + x.shape[1] # also a node!\n",
    "\n",
    "x_transpose = x.dimshuffle(1,0) # just x.T also works\n",
    "y = T.tensor4()\n",
    "y_reordered = y.dimshuffle(2,1,0,3)"
   ]
  },
  {
   "cell_type": "markdown",
   "metadata": {},
   "source": [
    "In addition, variables also have a broadcast pattern. It is a ndim-tuple of booleans that indicate whether the corresponding dimension can be \"broadcasted\".\n",
    "\n",
    "For example:"
   ]
  },
  {
   "cell_type": "code",
   "execution_count": 8,
   "metadata": {
    "collapsed": false
   },
   "outputs": [
    {
     "name": "stdout",
     "output_type": "stream",
     "text": [
      "(True, False)\n",
      "[[ 11.  13.  15.]\n",
      " [ 21.  23.  25.]]\n",
      "1 (False,) 2 (True, False)\n"
     ]
    }
   ],
   "source": [
    "x = T.row()\n",
    "y = T.matrix()\n",
    "print x.broadcastable # the first dimension is broadcastable\n",
    "\n",
    "z = x + y # elementwise addition... what happens?\n",
    "\n",
    "f = theano.function([x,y],z)\n",
    "o = f([[1,2,3]],[[10,11,12],[20,21,22]])\n",
    "# [1,2,3] is \"copied\" accross rows implicitely! because the first (row) dimension is set to be broadcastable\n",
    "print o\n",
    "\n",
    "# you can add broadcastable dimensions by using dimshuffle\n",
    "# a row is just a shuffled vector\n",
    "v = T.vector()\n",
    "row = v.dimshuffle('x', 0)\n",
    "print v.ndim, v.broadcastable, row.ndim, row.broadcastable\n",
    "\n",
    "# by default, if two nodes don't have the same ndim, theano will try adding \n",
    "# (True,) on the left of the broadcastable until the patterns match (or raise an error)\n",
    "# So this also works:\n",
    "x = T.vector()\n",
    "y = T.matrix()\n",
    "z = x + y # same behaviour as above"
   ]
  },
  {
   "cell_type": "markdown",
   "metadata": {},
   "source": [
    "### Compiling functions\n",
    "After creating a graph of computations you're satisfied with you can **compile** the graph to a function.\n",
    "\n",
    "Calling `theano.function(inputs, outputs, updates)` is saying, 'theano, please make a function that computes `outputs` given `inputs` and, optionally that updates some parameters (we'll get back to that later)."
   ]
  },
  {
   "cell_type": "code",
   "execution_count": 9,
   "metadata": {
    "collapsed": false
   },
   "outputs": [],
   "source": [
    "x = T.vector()\n",
    "y = T.vector()\n",
    "\n",
    "a = T.tanh(x.dot(y)) * x  #T.dot or x.dot is the tensor dot product, and `*` is the elementwise multiplication\n",
    "c = a - a.min()\n",
    "c = c / c.max()\n",
    "mean = T.mean(c)\n",
    "\n",
    "f = theano.function([x,y], [c,mean])\n",
    "g = theano.function([a], [mean])"
   ]
  },
  {
   "cell_type": "markdown",
   "metadata": {},
   "source": [
    "Note that the functions inputs don't need to be input nodes. Your computation graph tells you how to compute `mean` given `a`, so you can transform that subgraph into a function (`g`) without having to rewrite new code.\n",
    "\n",
    "### Using functions\n",
    "\n",
    "Now that we have these functions, we can call them as we would regular python functions, and theano will compute the output values the way the graph specified."
   ]
  },
  {
   "cell_type": "code",
   "execution_count": 10,
   "metadata": {
    "collapsed": false
   },
   "outputs": [
    {
     "name": "stdout",
     "output_type": "stream",
     "text": [
      "[array([ 0. ,  0.5,  1. ], dtype=float32), array(0.5, dtype=float32)]\n",
      "[array(0.5, dtype=float32)]\n",
      "[array(0.49133843183517456, dtype=float32)]\n"
     ]
    }
   ],
   "source": [
    "print f([1,2,3],[4,5,6])\n",
    "print g([1,2,3])\n",
    "print g(numpy.float32(numpy.random.uniform(3,4,1000)))"
   ]
  },
  {
   "cell_type": "markdown",
   "metadata": {},
   "source": [
    "Now, the magic behind theano is that it can compute the gradient (derivatives) of arbitrary graphs (as long as they're differentiable). Simply call `T.grad(f,x)` to compute $\\nabla_x f$ ($f$ needs to be a scalar function, but $x$ can have any number of dimensions)."
   ]
  },
  {
   "cell_type": "code",
   "execution_count": 11,
   "metadata": {
    "collapsed": false
   },
   "outputs": [
    {
     "name": "stdout",
     "output_type": "stream",
     "text": [
      "[0.0, 2.0, 4.0, 6.0, 8.0, 10.0, 12.0, 14.0, 16.0, 18.0]\n"
     ]
    }
   ],
   "source": [
    "x = T.scalar('x')\n",
    "z = x ** 2\n",
    "g = T.grad(z,x) # 2*x\n",
    "f = theano.function([x],g)\n",
    "print [float(f(i)) for i in range(10)]"
   ]
  },
  {
   "cell_type": "markdown",
   "metadata": {},
   "source": [
    "Now that means its easy to do optimization via gradient-descent method!\n",
    "\n",
    "### shared variables and updates\n",
    "\n",
    "Let's start with how to define **parameters** in theano. Here they are called **shared variables**, they are also nodes, but they are special in that they maintain a value that can be **updated** after a function call."
   ]
  },
  {
   "cell_type": "code",
   "execution_count": 12,
   "metadata": {
    "collapsed": false
   },
   "outputs": [
    {
     "name": "stdout",
     "output_type": "stream",
     "text": [
      "[ 0.29236943  0.19197753  0.22567742  0.79434121 -0.46546781 -0.45142874\n",
      "  0.43957779 -0.91727453 -0.22406994 -0.36749029]\n"
     ]
    }
   ],
   "source": [
    "theta = theano.shared(numpy.float32(numpy.random.uniform(-1,1,10)), name = 'theta')\n",
    "learning_rate = theano.shared(numpy.float32(0.05))\n",
    "print theta.get_value()\n",
    "\n",
    "# theta can be used as a normal theano node:\n",
    "x = T.vector()\n",
    "y = T.scalar()\n",
    "y_hat = T.nnet.sigmoid(T.dot(theta, x))\n",
    "\n",
    "loss = T.mean((y - y_hat)**2) # Mean Squared Error\n",
    "\n",
    "grad_of_theta = T.grad(loss, theta)\n",
    "new_theta = theta - learning_rate * grad_of_theta\n",
    "\n",
    "learn_from_1_example = theano.function([x,y],[loss],updates=[(theta, new_theta)])"
   ]
  },
  {
   "cell_type": "markdown",
   "metadata": {},
   "source": [
    "Great! We can now do logistic regression by calling the learn function over and over!"
   ]
  },
  {
   "cell_type": "code",
   "execution_count": 13,
   "metadata": {
    "collapsed": false
   },
   "outputs": [
    {
     "data": {
      "text/plain": [
       "[<matplotlib.lines.Line2D at 0x7f53feb85490>]"
      ]
     },
     "execution_count": 13,
     "metadata": {},
     "output_type": "execute_result"
    },
    {
     "data": {
      "image/png": "[encoded data removed]",
      "text/plain": [
       "<matplotlib.figure.Figure at 0x7f53ffe972d0>"
      ]
     },
     "metadata": {},
     "output_type": "display_data"
    }
   ],
   "source": [
    "# Let's make some random 1-d data\n",
    "def gen_data(N=300):\n",
    "    x = numpy.float32(numpy.random.uniform(-2,2,N))\n",
    "    y = numpy.exp(1.9*x) / (1+numpy.exp(1.9*x)) + numpy.random.uniform(-0.1,0.1,N)\n",
    "    return x,numpy.float32(y)\n",
    "X,Y = gen_data()\n",
    "pp.plot(X,Y,'ro')"
   ]
  },
  {
   "cell_type": "code",
   "execution_count": 14,
   "metadata": {
    "collapsed": false
   },
   "outputs": [
    {
     "name": "stdout",
     "output_type": "stream",
     "text": [
      "[ 0.35398155]\n",
      "0 11.6435253102\n",
      "1 4.88756458326\n",
      "2 3.02233212195\n",
      "3 2.2255778735\n",
      "4 1.80900571063\n",
      "5 1.56461318986\n",
      "6 1.41018908516\n",
      "7 1.30744119904\n",
      "8 1.23643993256\n",
      "9 1.18593866995\n",
      "10 1.14919643914\n",
      "11 1.1219747449\n",
      "12 1.10150451012\n",
      "13 1.08592095826\n",
      "14 1.07393342442\n",
      "15 1.06463162586\n",
      "16 1.05735927707\n",
      "17 1.05163628804\n",
      "18 1.0471078602\n",
      "19 1.04350673412\n",
      "[ 1.80239177]\n"
     ]
    },
    {
     "data": {
      "image/png": "[encoded data removed]",
      "text/plain": [
       "<matplotlib.figure.Figure at 0x7f53feac3310>"
      ]
     },
     "metadata": {},
     "output_type": "display_data"
    }
   ],
   "source": [
    "theano.config.compute_test_value = 'off'\n",
    "theta = theano.shared(numpy.float32(numpy.random.uniform(-1,1,1)), name = 'theta')\n",
    "learning_rate = theano.shared(numpy.float32(0.02))\n",
    "print theta.get_value()\n",
    "\n",
    "x = T.scalar()\n",
    "y = T.scalar()\n",
    "y_hat = T.nnet.sigmoid(x*theta)\n",
    "\n",
    "loss = T.mean((y - y_hat)**2) # Mean Squared Error\n",
    "\n",
    "grad_of_theta = T.grad(loss, theta)\n",
    "new_theta = theta - learning_rate * grad_of_theta\n",
    "\n",
    "learn_from_1_example = theano.function([x,y],[loss],updates=[(theta, new_theta)])\n",
    "predict = theano.function([x],y_hat)\n",
    "for epoch in range(20):\n",
    "    loss = 0\n",
    "    for x,y in zip(X,Y):\n",
    "        loss += learn_from_1_example(x,y)[0]\n",
    "    print epoch, loss\n",
    "pp.plot(X,Y,'ro')\n",
    "pp.plot(X,[predict(x) for x in X],'g^')\n",
    "print theta.get_value()"
   ]
  },
  {
   "cell_type": "markdown",
   "metadata": {},
   "source": [
    "Let's do something harder. Neural nets for example!"
   ]
  },
  {
   "cell_type": "code",
   "execution_count": 16,
   "metadata": {
    "collapsed": false
   },
   "outputs": [],
   "source": [
    "def gen_W(i,o):\n",
    "    k = 6 / numpy.sqrt(i+o)\n",
    "    return numpy.float32(numpy.random.uniform(-k,k,(i,o)))\n",
    "\n",
    "def layer(x, n_in, n_out, act):\n",
    "    W = theano.shared(gen_W(n_in,n_out))\n",
    "    b = theano.shared(numpy.zeros(n_out,dtype='float32'))\n",
    "    return act(T.dot(x, W) + b), [W,b]\n",
    "\n",
    "# feed many examples at a time:\n",
    "x = T.matrix()\n",
    "y = T.vector()\n",
    "lr = T.scalar()\n",
    "\n",
    "h1,p1 = layer(x, 10, 128, T.nnet.sigmoid)\n",
    "h2,p2 = layer(h1, 128, 32, T.nnet.relu)\n",
    "o,p3 = layer(h2, 32, 1, T.tanh)\n",
    "\n",
    "loss = T.mean((o.flatten() -y )**2)\n",
    "params = p1+p2+p3 # concatenating lists\n",
    "grads = T.grad(loss, params) # this is a list of the gradients of each param\n",
    "# this is a list of updates:\n",
    "updates = [(i, i-lr*gr) for i,gr in zip(params, grads)]\n",
    "\n",
    "learn = theano.function([x,y,lr],loss, updates=updates)\n",
    "test = theano.function([x,y],loss)\n",
    "predict = theano.function([x],o)"
   ]
  },
  {
   "cell_type": "markdown",
   "metadata": {},
   "source": [
    "I'll let you come up with some data to test this code ;)"
   ]
  },
  {
   "cell_type": "markdown",
   "metadata": {},
   "source": [
    "### Test values\n",
    "\n",
    "If something doesn't work in your computation graph, you will often only get an error at runtime, without knowing exactly where that error came from.\n",
    "\n",
    "To avoid this, you can assign test values to you nodes. They will be used in turn to compute test values for all following nodes. \n",
    "\n",
    "Remember to set the flag!"
   ]
  },
  {
   "cell_type": "code",
   "execution_count": null,
   "metadata": {
    "collapsed": false
   },
   "outputs": [],
   "source": [
    "theano.config.compute_test_value = 'raise' # start computing test values, raise an error if something happens\n",
    "try:\n",
    "    x = T.vector()\n",
    "    x.tag.test_value = numpy.float32([1,2,3])\n",
    "    y = T.vector()\n",
    "    y.tag.test_value = numpy.float32([1,1,1,1])\n",
    "\n",
    "    z = x + y.sum()\n",
    "    print z.tag.test_value\n",
    "\n",
    "    w = x + y # this will raise an error!\n",
    "    # but now instead of later when you feed values to a theano function\n",
    "finally:\n",
    "    theano.config.compute_test_value = 'off' # back to normal\n"
   ]
  },
  {
   "cell_type": "code",
   "execution_count": null,
   "metadata": {
    "collapsed": false
   },
   "outputs": [],
   "source": []
  }
 ],
 "metadata": {
  "kernelspec": {
   "display_name": "Python 2",
   "language": "python",
   "name": "python2"
  },
  "language_info": {
   "codemirror_mode": {
    "name": "ipython",
    "version": 2
   },
   "file_extension": ".py",
   "mimetype": "text/x-python",
   "name": "python",
   "nbconvert_exporter": "python",
   "pygments_lexer": "ipython2",
   "version": "2.7.12"
  }
 },
 "nbformat": 4,
 "nbformat_minor": 0
}
